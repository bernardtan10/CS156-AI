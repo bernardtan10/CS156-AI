{
  "cells": [
    {
      "cell_type": "markdown",
      "metadata": {
        "id": "qkfElMgAxFEW"
      },
      "source": [
        "# <b>CS156 (Introduction to AI), Spring 2022</b>\n",
        "# <u><b>Homework 1 submission</b></u>"
      ]
    },
    {
      "cell_type": "markdown",
      "metadata": {
        "id": "T-Eet1SPxFEY"
      },
      "source": [
        "### Roster Name: Bernard Tan\n",
        "### Preferred Name (if different): Bernard\n",
        "### Student ID: 015215317\n",
        "### Email address: bernard.tan@sjsu.edu\n"
      ]
    },
    {
      "cell_type": "markdown",
      "metadata": {
        "id": "eXpHzOJGxFEZ"
      },
      "source": [
        "##  <u>References and sources </u>"
      ]
    },
    {
      "cell_type": "markdown",
      "metadata": {
        "id": "tSQqgD86xFEZ"
      },
      "source": [
        "List all your references and sources here.\n",
        "This includes all sites/discussion boards/blogs/posts/etc. where you grabbed some code examples."
      ]
    },
    {
      "cell_type": "markdown",
      "metadata": {
        "id": "oY0UcfKFxFEZ"
      },
      "source": [
        "##  <u>Solution</u>"
      ]
    },
    {
      "cell_type": "markdown",
      "metadata": {
        "id": "4yltfanUxFEa"
      },
      "source": [
        "#### Load libraries and set random number generator seed"
      ]
    },
    {
      "cell_type": "code",
      "execution_count": 5,
      "metadata": {
        "id": "uZ05ae9KxFEa"
      },
      "outputs": [],
      "source": [
        "import numpy as np\n",
        "from IPython.display import display, Math, Latex"
      ]
    },
    {
      "cell_type": "code",
      "execution_count": 3,
      "metadata": {
        "id": "EtMGGO1WxFEb"
      },
      "outputs": [],
      "source": [
        "np.random.seed(2)"
      ]
    },
    {
      "cell_type": "markdown",
      "metadata": {
        "id": "CiNt1JdwxFEc"
      },
      "source": [
        "#### Code the solution"
      ]
    },
    {
      "cell_type": "code",
      "execution_count": 6,
      "metadata": {
        "colab": {
          "base_uri": "https://localhost:8080/",
          "height": 38
        },
        "id": "i4YacSGpxFEc",
        "outputId": "c84488d6-748b-491c-9af0-93d622262de1"
      },
      "outputs": [
        {
          "output_type": "display_data",
          "data": {
            "text/latex": "$$ f(x) = 5x^3 - 20x + 2 $$",
            "text/plain": [
              "<IPython.core.display.Math object>"
            ]
          },
          "metadata": {}
        }
      ],
      "source": [
        "display(Math(r' f(x) = 5x^3 - 20x + 2 '))"
      ]
    },
    {
      "cell_type": "code",
      "execution_count": 7,
      "metadata": {
        "id": "TJ40wRO5xFEc"
      },
      "outputs": [],
      "source": [
        "def f(x):\n",
        "    return (5 * (x**3)) - (20 * x) + 2"
      ]
    },
    {
      "cell_type": "code",
      "execution_count": 9,
      "metadata": {
        "id": "zGWeA1JFxFEd"
      },
      "outputs": [],
      "source": [
        "#derivative\n",
        "def f_prime(x):\n",
        "    return (15 * (x**2)) - 20"
      ]
    },
    {
      "cell_type": "code",
      "execution_count": 11,
      "metadata": {
        "colab": {
          "base_uri": "https://localhost:8080/"
        },
        "id": "i8LKwhv1xFEd",
        "outputId": "f82b7b36-4d41-4f05-df1b-e0484d3d5b7b"
      },
      "outputs": [
        {
          "output_type": "stream",
          "name": "stdout",
          "text": [
            "Global Minimum Value of x at 1.155\n"
          ]
        }
      ],
      "source": [
        "init_solution = np.random.randint(-5, 5)\n",
        "\n",
        "def gradient_descent(x, lr, iterations):\n",
        "    for i in range(iterations):\n",
        "        x = x - lr * f_prime(x)\n",
        "    \n",
        "    return(x)\n",
        "\n",
        "solution = gradient_descent(init_solution, .01, 1000)\n",
        "print(\"Global Minimum Value of x at \" + str(round(solution, 3)))"
      ]
    },
    {
      "cell_type": "code",
      "execution_count": null,
      "metadata": {
        "id": "p0TIt79JxFEd"
      },
      "outputs": [],
      "source": [
        ""
      ]
    },
    {
      "cell_type": "code",
      "execution_count": null,
      "metadata": {
        "id": "CG_kHf5HxFEd"
      },
      "outputs": [],
      "source": [
        ""
      ]
    }
  ],
  "metadata": {
    "kernelspec": {
      "display_name": "Python 3",
      "language": "python",
      "name": "python3"
    },
    "language_info": {
      "codemirror_mode": {
        "name": "ipython",
        "version": 3
      },
      "file_extension": ".py",
      "mimetype": "text/x-python",
      "name": "python",
      "nbconvert_exporter": "python",
      "pygments_lexer": "ipython3",
      "version": "3.8.3"
    },
    "colab": {
      "name": "HomeworkSubmissionTemplate.ipynb",
      "provenance": []
    }
  },
  "nbformat": 4,
  "nbformat_minor": 0
}