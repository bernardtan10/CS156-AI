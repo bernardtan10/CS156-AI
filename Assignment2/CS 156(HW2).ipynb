{
  "cells": [
    {
      "cell_type": "code",
      "execution_count": null,
      "id": "7042132e-ce18-441c-9334-693d665d0933",
      "metadata": {
        "id": "7042132e-ce18-441c-9334-693d665d0933"
      },
      "outputs": [],
      "source": [
        "# Citation 1 : From Canvas Project Example (Jupyter Notebook, knn.synthetic_data.ipynb)\n",
        "# Citation 2 : From Canvas Project Example (Jupyter Notebook, kmeans.synthetic_data.ipynb)\n",
        "# Citation 3 : https://www.geeksforgeeks.org/3d-scatter-plotting-in-python-using-matplotlib/\n",
        "\n",
        "import pandas as pd\n",
        "import numpy as np\n",
        "import matplotlib.pyplot as plt\n",
        "import seaborn as sns\n",
        "from scipy.spatial import distance\n",
        "import collections"
      ]
    },
    {
      "cell_type": "code",
      "execution_count": null,
      "id": "b27421b5-a5e5-49c6-ba4d-5695dece2be0",
      "metadata": {
        "id": "b27421b5-a5e5-49c6-ba4d-5695dece2be0"
      },
      "outputs": [],
      "source": [
        "def euclidean_distance(X1, Y1, Z1, X2, Y2, Z2):\n",
        "\n",
        "    distance = ( ((X2-X1)**2)  +  ((Y2-Y1)**2)  + ((Z2-Z1)**2) )\n",
        "    distance = sqrt(distance)\n",
        "    \n",
        "    return distance"
      ]
    },
    {
      "cell_type": "code",
      "execution_count": 33,
      "id": "5fedccee-6b76-4a85-b95d-ce8f1c99b1a4",
      "metadata": {
        "id": "5fedccee-6b76-4a85-b95d-ce8f1c99b1a4"
      },
      "outputs": [],
      "source": [
        "def knn(newObservation, referenceData, k=3):  \n",
        "  knn(X_test.iloc[0], referenceData, k=3) "
      ]
    },
    {
      "cell_type": "code",
      "execution_count": null,
      "id": "29620ef4-0d3f-4d5d-9fe1-f83dc0d501e8",
      "metadata": {
        "id": "29620ef4-0d3f-4d5d-9fe1-f83dc0d501e8"
      },
      "outputs": [],
      "source": [
        "np.random.seed(42)"
      ]
    },
    {
      "cell_type": "code",
      "execution_count": null,
      "id": "86b6b087-661b-4282-9390-883426ef5374",
      "metadata": {
        "id": "86b6b087-661b-4282-9390-883426ef5374"
      },
      "outputs": [],
      "source": [
        "#data points 2D\n",
        "n = 100\n",
        "\n",
        "#draw from a Gaussian distribution\n",
        "\n",
        "X0 = np.random.normal(loc=-2.0, scale=2.0, size=int(n/2))   \n",
        "Y0 = np.random.normal(loc=0.0, scale=1.0, size=int(n/2))\n",
        "\n",
        "X1 = np.random.normal(loc=2.0, scale=2.0, size=int(n/2))   \n",
        "Y1 = np.random.normal(loc=0.0, scale=1.0, size=int(n/2))\n",
        "\n",
        "\n",
        "X = np.concatenate((X0, X1), axis=0)\n",
        "Y = np.concatenate((Y0, Y1), axis=0)"
      ]
    },
    {
      "cell_type": "code",
      "execution_count": null,
      "id": "dc54b9e3-70e7-41ad-b715-54fe88a34db7",
      "metadata": {
        "id": "dc54b9e3-70e7-41ad-b715-54fe88a34db7",
        "outputId": "50bb2f68-438f-430e-8b4d-4a389f24471f"
      },
      "outputs": [
        {
          "data": {
            "text/html": [
              "<div>\n",
              "<style scoped>\n",
              "    .dataframe tbody tr th:only-of-type {\n",
              "        vertical-align: middle;\n",
              "    }\n",
              "\n",
              "    .dataframe tbody tr th {\n",
              "        vertical-align: top;\n",
              "    }\n",
              "\n",
              "    .dataframe thead th {\n",
              "        text-align: right;\n",
              "    }\n",
              "</style>\n",
              "<table border=\"1\" class=\"dataframe\">\n",
              "  <thead>\n",
              "    <tr style=\"text-align: right;\">\n",
              "      <th></th>\n",
              "      <th>X</th>\n",
              "      <th>Y</th>\n",
              "    </tr>\n",
              "  </thead>\n",
              "  <tbody>\n",
              "    <tr>\n",
              "      <th>0</th>\n",
              "      <td>-1.006572</td>\n",
              "      <td>0.324084</td>\n",
              "    </tr>\n",
              "    <tr>\n",
              "      <th>1</th>\n",
              "      <td>-2.276529</td>\n",
              "      <td>-0.385082</td>\n",
              "    </tr>\n",
              "    <tr>\n",
              "      <th>2</th>\n",
              "      <td>-0.704623</td>\n",
              "      <td>-0.676922</td>\n",
              "    </tr>\n",
              "    <tr>\n",
              "      <th>3</th>\n",
              "      <td>1.046060</td>\n",
              "      <td>0.611676</td>\n",
              "    </tr>\n",
              "    <tr>\n",
              "      <th>4</th>\n",
              "      <td>-2.468307</td>\n",
              "      <td>1.031000</td>\n",
              "    </tr>\n",
              "  </tbody>\n",
              "</table>\n",
              "</div>"
            ],
            "text/plain": [
              "          X         Y\n",
              "0 -1.006572  0.324084\n",
              "1 -2.276529 -0.385082\n",
              "2 -0.704623 -0.676922\n",
              "3  1.046060  0.611676\n",
              "4 -2.468307  1.031000"
            ]
          },
          "execution_count": 5,
          "metadata": {},
          "output_type": "execute_result"
        }
      ],
      "source": [
        "dt = pd.DataFrame({'X':X, 'Y':Y}, columns=['X', 'Y'])\n",
        "dt.head()"
      ]
    },
    {
      "cell_type": "code",
      "execution_count": null,
      "id": "ef917fda-4a53-445c-9c26-f432b17b7143",
      "metadata": {
        "id": "ef917fda-4a53-445c-9c26-f432b17b7143",
        "outputId": "ebdb15d8-b35f-4bb9-a82c-6a505c09b7b9"
      },
      "outputs": [
        {
          "name": "stdout",
          "output_type": "stream",
          "text": [
            "Generated Data : \n"
          ]
        },
        {
          "data": {
            "image/png": "[encoded data removed]",
            "text/plain": [
              "<Figure size 432x288 with 1 Axes>"
            ]
          },
          "metadata": {
            "needs_background": "light"
          },
          "output_type": "display_data"
        }
      ],
      "source": [
        "print(\"Generated Data : \")\n",
        "plt.scatter(X, Y, s = 25, c = 'b')\n",
        "plt.show()"
      ]
    },
    {
      "cell_type": "code",
      "execution_count": null,
      "id": "e49bdbf5-5a5e-4cfb-b1a7-94519ea9402c",
      "metadata": {
        "id": "e49bdbf5-5a5e-4cfb-b1a7-94519ea9402c"
      },
      "outputs": [],
      "source": [
        "#2D Data Train and Test Split (80/20)\n",
        "X_split = np.split(X, [80])\n",
        "Y_split = np.split(Y, [80])\n",
        "\n",
        "X_train = np.copy(X_split[0])\n",
        "Y_train = np.copy(Y_split[0])\n",
        "\n",
        "X_test = np.copy(X_split[1])\n",
        "Y_test = np.copy(Y_split[1])"
      ]
    },
    {
      "cell_type": "code",
      "execution_count": null,
      "id": "785d6657-2f35-4c49-80f3-6ef02098d40c",
      "metadata": {
        "id": "785d6657-2f35-4c49-80f3-6ef02098d40c"
      },
      "outputs": [],
      "source": [
        "#data points 3D\n",
        "n = 100\n",
        "\n",
        "#draw from a Gaussian distribution\n",
        "\n",
        "X0 = np.random.normal(loc=0.0, scale=3.0, size=int(n/4))   \n",
        "Y0 = np.random.normal(loc=-3.0, scale=1.0, size=int(n/4))\n",
        "Z0 = np.random.normal(loc=-1.0, scale=1.0, size=int(n/4))\n",
        "\n",
        "X1 = np.random.normal(loc=0.0, scale=3.0, size=int(n/4))   \n",
        "Y1 = np.random.normal(loc=1.0, scale=2.0, size=int(n/4))\n",
        "Z1 = np.random.normal(loc=1.0, scale=1.0, size=int(n/4))\n",
        "\n",
        "X2 = np.random.normal(loc=0.0, scale=3.0, size=int(n/4))   \n",
        "Y2 = np.random.normal(loc=3.0, scale=1.0, size=int(n/4))\n",
        "Z2 = np.random.normal(loc=4.0, scale=1.0, size=int(n/4))\n",
        "\n",
        "X3 = np.random.normal(loc=0.0, scale=3.0, size=int(n/4))   \n",
        "Y3 = np.random.normal(loc=5.0, scale=3.0, size=int(n/4))\n",
        "Z3 = np.random.normal(loc=-3.0, scale=1.0, size=int(n/4))\n",
        "\n",
        "\n",
        "X = np.concatenate((X0, X1, X2, X3), axis=0)\n",
        "Y = np.concatenate((Y0, Y1, Y2, Y3), axis=0)\n",
        "Z = np.concatenate((Z0, Z1, Z2, Z3), axis=0)"
      ]
    },
    {
      "cell_type": "code",
      "execution_count": null,
      "id": "90cb9119-dd8e-4348-98b5-41589f413951",
      "metadata": {
        "id": "90cb9119-dd8e-4348-98b5-41589f413951",
        "outputId": "2fd51fac-3840-4942-ac3b-19b862bf584d"
      },
      "outputs": [
        {
          "data": {
            "text/html": [
              "<div>\n",
              "<style scoped>\n",
              "    .dataframe tbody tr th:only-of-type {\n",
              "        vertical-align: middle;\n",
              "    }\n",
              "\n",
              "    .dataframe tbody tr th {\n",
              "        vertical-align: top;\n",
              "    }\n",
              "\n",
              "    .dataframe thead th {\n",
              "        text-align: right;\n",
              "    }\n",
              "</style>\n",
              "<table border=\"1\" class=\"dataframe\">\n",
              "  <thead>\n",
              "    <tr style=\"text-align: right;\">\n",
              "      <th></th>\n",
              "      <th>X</th>\n",
              "      <th>Y</th>\n",
              "      <th>Z</th>\n",
              "    </tr>\n",
              "  </thead>\n",
              "  <tbody>\n",
              "    <tr>\n",
              "      <th>0</th>\n",
              "      <td>1.073362</td>\n",
              "      <td>-1.911049</td>\n",
              "      <td>-2.260884</td>\n",
              "    </tr>\n",
              "    <tr>\n",
              "      <th>1</th>\n",
              "      <td>1.682354</td>\n",
              "      <td>-2.935720</td>\n",
              "      <td>-0.082138</td>\n",
              "    </tr>\n",
              "    <tr>\n",
              "      <th>2</th>\n",
              "      <td>3.249154</td>\n",
              "      <td>-4.077745</td>\n",
              "      <td>1.122156</td>\n",
              "    </tr>\n",
              "    <tr>\n",
              "      <th>3</th>\n",
              "      <td>3.161406</td>\n",
              "      <td>-3.715304</td>\n",
              "      <td>0.032465</td>\n",
              "    </tr>\n",
              "    <tr>\n",
              "      <th>4</th>\n",
              "      <td>-4.133008</td>\n",
              "      <td>-2.320402</td>\n",
              "      <td>-2.519370</td>\n",
              "    </tr>\n",
              "  </tbody>\n",
              "</table>\n",
              "</div>"
            ],
            "text/plain": [
              "          X         Y         Z\n",
              "0  1.073362 -1.911049 -2.260884\n",
              "1  1.682354 -2.935720 -0.082138\n",
              "2  3.249154 -4.077745  1.122156\n",
              "3  3.161406 -3.715304  0.032465\n",
              "4 -4.133008 -2.320402 -2.519370"
            ]
          },
          "execution_count": 9,
          "metadata": {},
          "output_type": "execute_result"
        }
      ],
      "source": [
        "dt = pd.DataFrame({'X':X, 'Y':Y, 'Z':Z}, columns=['X', 'Y', 'Z'])\n",
        "dt.head()"
      ]
    },
    {
      "cell_type": "code",
      "execution_count": null,
      "id": "4b849674-7883-4aea-b2a1-60e4099c923a",
      "metadata": {
        "id": "4b849674-7883-4aea-b2a1-60e4099c923a",
        "outputId": "2f6019b9-2e20-4b9f-e2a1-852a59a62a1a"
      },
      "outputs": [
        {
          "name": "stdout",
          "output_type": "stream",
          "text": [
            "Generated Data : \n"
          ]
        },
        {
          "data": {
            "image/png": "[encoded data removed]",
            "text/plain": [
              "<Figure size 432x288 with 1 Axes>"
            ]
          },
          "metadata": {
            "needs_background": "light"
          },
          "output_type": "display_data"
        }
      ],
      "source": [
        "ax = plt.axes(projection =\"3d\")\n",
        "\n",
        "print(\"Generated Data : \")\n",
        "ax.scatter3D(X, Y, Z, s=25, c = \"b\")\n",
        "plt.show()"
      ]
    },
    {
      "cell_type": "code",
      "execution_count": null,
      "id": "04956fa0-96a2-43fb-a9e4-d1a396f47daf",
      "metadata": {
        "id": "04956fa0-96a2-43fb-a9e4-d1a396f47daf"
      },
      "outputs": [],
      "source": [
        "#3D Data Train and Test Split (80/20)\n",
        "X_split = np.split(X, [80])\n",
        "Y_split = np.split(Y, [80])\n",
        "Z_split = np.split(Z, [80])\n",
        "\n",
        "X_train = np.copy(X_split[0])\n",
        "Y_train = np.copy(Y_split[0])\n",
        "Z_train = np.copy(Z_split[0])\n",
        "\n",
        "X_test = np.copy(X_split[1])\n",
        "Y_test = np.copy(Y_split[1])\n",
        "Z_test = np.copy(Z_split[1])"
      ]
    }
  ],
  "metadata": {
    "kernelspec": {
      "display_name": "Python 3",
      "language": "python",
      "name": "python3"
    },
    "language_info": {
      "codemirror_mode": {
        "name": "ipython",
        "version": 3
      },
      "file_extension": ".py",
      "mimetype": "text/x-python",
      "name": "python",
      "nbconvert_exporter": "python",
      "pygments_lexer": "ipython3",
      "version": "3.8.8"
    },
    "colab": {
      "name": "CS 156 (Assignment 2).ipynb",
      "provenance": []
    }
  },
  "nbformat": 4,
  "nbformat_minor": 5
}