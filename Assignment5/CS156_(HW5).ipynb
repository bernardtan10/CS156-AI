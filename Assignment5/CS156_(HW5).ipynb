{
  "cells": [
    {
      "cell_type": "markdown",
      "metadata": {
        "id": "qkfElMgAxFEW"
      },
      "source": [
        "# <b>CS156 (Introduction to AI), Spring 2022</b>\n",
        "# <u><b>Homework 5 submission</b></u>"
      ]
    },
    {
      "cell_type": "markdown",
      "metadata": {
        "id": "T-Eet1SPxFEY"
      },
      "source": [
        "### Roster Name: Bernard Tan\n",
        "### Preferred Name (if different): Bernard\n",
        "### Student ID: 015215317\n",
        "### Email address: bernard.tan@sjsu.edu\n"
      ]
    },
    {
      "cell_type": "markdown",
      "metadata": {
        "id": "eXpHzOJGxFEZ"
      },
      "source": [
        "##  <u>References and sources </u>"
      ]
    },
    {
      "cell_type": "markdown",
      "metadata": {
        "id": "tSQqgD86xFEZ"
      },
      "source": [
        "List all your references and sources here.\n",
        "This includes all sites/discussion boards/blogs/posts/etc. where you grabbed some code examples."
      ]
    },
    {
      "cell_type": "markdown",
      "metadata": {
        "id": "oY0UcfKFxFEZ"
      },
      "source": [
        "##  <u>Solution</u>"
      ]
    },
    {
      "cell_type": "markdown",
      "metadata": {
        "id": "4yltfanUxFEa"
      },
      "source": [
        "#### Load libraries and set random number generator seed"
      ]
    },
    {
      "cell_type": "code",
      "execution_count": 2,
      "metadata": {
        "id": "uZ05ae9KxFEa"
      },
      "outputs": [],
      "source": [
        "# Citation :\n",
        "# 1. From Canvas Project Example (Jupyter Notebook, DecisionTrees.Breast.ipynb)\n",
        "# 2. https://pbpython.com/categorical-encoding.html (One Hot Encoding Guidance, from Assignment pdf)\n",
        "\n",
        "import numpy as np\n",
        "import pandas as pd\n",
        "from sklearn import datasets\n",
        "import matplotlib.pyplot as plt\n",
        "import seaborn as sns\n",
        "from sklearn.model_selection import train_test_split\n",
        "from sklearn.tree import DecisionTreeClassifier\n",
        "from sklearn.model_selection import cross_val_score\n",
        "from sklearn.metrics import plot_confusion_matrix\n",
        "from sklearn.ensemble import RandomForestClassifier\n",
        "from sklearn import tree"
      ]
    },
    {
      "cell_type": "code",
      "execution_count": 3,
      "metadata": {
        "id": "EtMGGO1WxFEb"
      },
      "outputs": [],
      "source": [
        "np.random.seed(2)"
      ]
    },
    {
      "cell_type": "markdown",
      "metadata": {
        "id": "CiNt1JdwxFEc"
      },
      "source": [
        "#### Code the solution"
      ]
    },
    {
      "cell_type": "code",
      "execution_count": 4,
      "metadata": {
        "id": "i4YacSGpxFEc"
      },
      "outputs": [],
      "source": [
        "# Load Dataset\n",
        "\n",
        "df = pd.read_csv (r'homework5_input_data.csv')\n",
        "\n",
        "Y = df ['Class']\n",
        "X = df.drop (['Class'], axis = 1)\n",
        "\n",
        "target = ['e', 'p']"
      ]
    },
    {
      "cell_type": "code",
      "execution_count": 5,
      "metadata": {
        "id": "TJ40wRO5xFEc"
      },
      "outputs": [],
      "source": [
        "# Convert Categorical Variable to Numeric (X only, using One Hot Encoding)\n",
        "\n",
        "X_ohe = pd.get_dummies (X, columns = X.columns, prefix = X.columns)"
      ]
    },
    {
      "cell_type": "code",
      "execution_count": 6,
      "metadata": {
        "id": "zGWeA1JFxFEd",
        "colab": {
          "base_uri": "https://localhost:8080/",
          "height": 0
        },
        "outputId": "20d43dc5-1d69-4745-9ba2-53367dec827d"
      },
      "outputs": [
        {
          "output_type": "execute_result",
          "data": {
            "text/plain": [
              "((82875, 4868), (82875,), (20719, 4868), (20719,))"
            ]
          },
          "metadata": {},
          "execution_count": 6
        }
      ],
      "source": [
        "# Break the data into the training and test datasets\n",
        "\n",
        "X_train, X_test, Y_train, Y_test = train_test_split(X_ohe, Y, test_size=0.2, random_state=0)\n",
        "X_train.shape, Y_train.shape, X_test.shape, Y_test.shape"
      ]
    },
    {
      "cell_type": "code",
      "execution_count": 7,
      "metadata": {
        "colab": {
          "base_uri": "https://localhost:8080/",
          "height": 0
        },
        "id": "i8LKwhv1xFEd",
        "outputId": "d0a688ed-4205-43f6-92d2-b9c038c0f3ad"
      },
      "outputs": [
        {
          "output_type": "stream",
          "name": "stdout",
          "text": [
            "Individual Cross-Validation Accuracies : \n",
            "[0.79909502 0.79831071 0.79939668 0.79360483 0.7986727 ]\n",
            "Mean Cross-Validation Accuracies : \n",
            "0.7978159879336351\n"
          ]
        }
      ],
      "source": [
        "# Train a decision tree model (5-fold cross-validation)\n",
        "\n",
        "model = DecisionTreeClassifier(random_state=0)\n",
        "\n",
        "cvs = cross_val_score(model, X_train, Y_train, cv=5)\n",
        "\n",
        "\n",
        "# Report Accuracies\n",
        "\n",
        "print('Individual Cross-Validation Accuracies : ')\n",
        "print (cvs)\n",
        "print('Mean Cross-Validation Accuracies : ')\n",
        "print (cvs.mean())"
      ]
    },
    {
      "cell_type": "code",
      "execution_count": 8,
      "metadata": {
        "id": "p0TIt79JxFEd",
        "colab": {
          "base_uri": "https://localhost:8080/",
          "height": 0
        },
        "outputId": "3d988c42-ef91-441a-ccea-1ceadaa872d1"
      },
      "outputs": [
        {
          "output_type": "stream",
          "name": "stdout",
          "text": [
            "Accuracy of linear SVC on training set: 1.00\n",
            "Accuracy of linear SVC on test set: 0.80\n"
          ]
        }
      ],
      "source": [
        "# Train a decision tree model \n",
        "\n",
        "model.fit(X_train, Y_train)\n",
        "\n",
        "print('Accuracy of linear SVC on training set: {:.2f}'.format(model.score(X_train, Y_train)))\n",
        "\n",
        "print('Accuracy of linear SVC on test set: {:.2f}'.format(model.score(X_test, Y_test)))"
      ]
    },
    {
      "cell_type": "code",
      "execution_count": 9,
      "metadata": {
        "id": "CG_kHf5HxFEd",
        "colab": {
          "base_uri": "https://localhost:8080/",
          "height": 662
        },
        "outputId": "e526577d-9646-4487-9ffc-d948ec6fd3a6"
      },
      "outputs": [
        {
          "output_type": "stream",
          "name": "stderr",
          "text": [
            "/usr/local/lib/python3.7/dist-packages/sklearn/utils/deprecation.py:87: FutureWarning: Function plot_confusion_matrix is deprecated; Function `plot_confusion_matrix` is deprecated in 1.0 and will be removed in 1.2. Use one of the class methods: ConfusionMatrixDisplay.from_predictions or ConfusionMatrixDisplay.from_estimator.\n",
            "  warnings.warn(msg, category=FutureWarning)\n",
            "/usr/local/lib/python3.7/dist-packages/sklearn/utils/deprecation.py:87: FutureWarning: Function plot_confusion_matrix is deprecated; Function `plot_confusion_matrix` is deprecated in 1.0 and will be removed in 1.2. Use one of the class methods: ConfusionMatrixDisplay.from_predictions or ConfusionMatrixDisplay.from_estimator.\n",
            "  warnings.warn(msg, category=FutureWarning)\n"
          ]
        },
        {
          "output_type": "display_data",
          "data": {
            "text/plain": [
              "<Figure size 432x288 with 2 Axes>"
            ],
            "image/png": "[encoded data removed]"
          },
          "metadata": {
            "needs_background": "light"
          }
        },
        {
          "output_type": "display_data",
          "data": {
            "text/plain": [
              "<Figure size 432x288 with 2 Axes>"
            ],
            "image/png": "[encoded data removed]"
          },
          "metadata": {
            "needs_background": "light"
          }
        }
      ],
      "source": [
        "# Plot two confusion matrices for test set predictions\n",
        "\n",
        "np.set_printoptions(precision=2)\n",
        "titles_options = [(\"Confusion matrix, without normalization\", None),\n",
        "                  (\"Normalized confusion matrix\", 'true')]\n",
        "\n",
        "for title, normalize in titles_options:\n",
        "    disp = plot_confusion_matrix(model, X_test, Y_test,\n",
        "                                 display_labels= target,\n",
        "                                 cmap=plt.cm.Blues,\n",
        "                                 normalize=normalize)\n",
        "    disp.ax_.set_title(title)\n",
        "\n",
        "   \n",
        "\n",
        "plt.show()"
      ]
    }
  ],
  "metadata": {
    "kernelspec": {
      "display_name": "Python 3",
      "language": "python",
      "name": "python3"
    },
    "language_info": {
      "codemirror_mode": {
        "name": "ipython",
        "version": 3
      },
      "file_extension": ".py",
      "mimetype": "text/x-python",
      "name": "python",
      "nbconvert_exporter": "python",
      "pygments_lexer": "ipython3",
      "version": "3.8.3"
    },
    "colab": {
      "name": "CS156 (HW5)",
      "provenance": [],
      "collapsed_sections": []
    }
  },
  "nbformat": 4,
  "nbformat_minor": 0
}