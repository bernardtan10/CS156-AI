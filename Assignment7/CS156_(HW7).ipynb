{
  "cells": [
    {
      "cell_type": "markdown",
      "metadata": {
        "id": "aBBK9BDZPxlP"
      },
      "source": [
        "# <b>CS156 (Introduction to AI), Spring 2022</b>\n",
        "# <u><b>Homework 1 submission</b></u>"
      ]
    },
    {
      "cell_type": "markdown",
      "metadata": {
        "id": "_tPw2szpPxlS"
      },
      "source": [
        "### Roster Name: Your Name\n",
        "### Preferred Name (if different): Chosen Name\n",
        "### Student ID: xxxxxxx\n",
        "### Email address: me@me.com\n",
        "Any special notes or anything you would like to communicate to me about this homework submission goes in here."
      ]
    },
    {
      "cell_type": "markdown",
      "metadata": {
        "id": "GbV-v-axPxlT"
      },
      "source": [
        "##  <u>References and sources </u>"
      ]
    },
    {
      "cell_type": "markdown",
      "metadata": {
        "id": "U8FY838iPxlT"
      },
      "source": [
        "List all your references and sources here.\n",
        "This includes all sites/discussion boards/blogs/posts/etc. where you grabbed some code examples."
      ]
    },
    {
      "cell_type": "markdown",
      "metadata": {
        "id": "RwDy7TEPPxlU"
      },
      "source": [
        "##  <u>Solution</u>"
      ]
    },
    {
      "cell_type": "markdown",
      "metadata": {
        "id": "zm5i94bPPxlU"
      },
      "source": [
        "#### Load libraries and set random number generator seed"
      ]
    },
    {
      "cell_type": "code",
      "execution_count": 2,
      "metadata": {
        "id": "uHUhwdewPxlU"
      },
      "outputs": [],
      "source": [
        "# Citation :\n",
        "# 1. From Assignment 6\n",
        "# 2. https://www.geeksforgeeks.org/violinplot-using-seaborn-in-python/ (Flatten, X)\n",
        "import numpy as np\n",
        "import pandas as pd\n",
        "from sklearn import datasets\n",
        "import matplotlib.pyplot as plt\n",
        "from PIL import Image\n",
        "import seaborn as sns\n",
        "from sklearn.model_selection import train_test_split\n",
        "from sklearn.neural_network import MLPClassifier\n",
        "from sklearn.metrics import plot_confusion_matrix\n",
        "from sklearn.exceptions import ConvergenceWarning\n",
        "from sklearn.datasets import load_digits\n",
        "from sklearn.model_selection import cross_val_score\n",
        "import seaborn"
      ]
    },
    {
      "cell_type": "code",
      "execution_count": 3,
      "metadata": {
        "id": "AeX3wJo9PxlV"
      },
      "outputs": [],
      "source": [
        "np.random.seed(42)"
      ]
    },
    {
      "cell_type": "markdown",
      "metadata": {
        "id": "nekczqAkPxlW"
      },
      "source": [
        "#### Code the solution"
      ]
    },
    {
      "cell_type": "code",
      "execution_count": 4,
      "metadata": {
        "id": "QksgSpxcPxlW"
      },
      "outputs": [],
      "source": [
        "# Data Loading\n",
        "data = load_digits()\n",
        "n_samples = len(data.images)\n",
        "# Data Normalized and Flattened\n",
        "X = data.images.reshape((n_samples, -1))\n",
        "X = X.astype (\"float32\") / 255\n",
        "Y = pd.DataFrame(data.target)"
      ]
    },
    {
      "cell_type": "code",
      "execution_count": 9,
      "metadata": {
        "colab": {
          "base_uri": "https://localhost:8080/"
        },
        "id": "ZTpoyBhfPxlX",
        "outputId": "ee877147-ff42-405e-c239-cb8bad61dccc"
      },
      "outputs": [
        {
          "output_type": "execute_result",
          "data": {
            "text/plain": [
              "((1437, 64), (1437, 10), (360, 64), (360, 10))"
            ]
          },
          "metadata": {},
          "execution_count": 9
        }
      ],
      "source": [
        "# One-Hot encode\n",
        "Y_ohe = pd.get_dummies(Y, columns = Y.columns, prefix = Y.columns)\n",
        "X_train, X_test, Y_train, Y_test = train_test_split(X, Y_ohe, test_size=0.2, random_state=0, stratify=Y)\n",
        "X_train.shape, Y_train.shape, X_test.shape, Y_test.shape"
      ]
    },
    {
      "cell_type": "code",
      "execution_count": 11,
      "metadata": {
        "colab": {
          "base_uri": "https://localhost:8080/"
        },
        "id": "w0Kj6W50PxlX",
        "outputId": "4decec68-8cd4-4710-cc4f-dbfddbdc1e33"
      },
      "outputs": [
        {
          "output_type": "stream",
          "name": "stdout",
          "text": [
            "Individual Cross-Validation Accuracies 1 : \n",
            "[0.94097222 0.95138889 0.90940767 0.92334495 0.94425087]\n",
            "Mean Cross-Validation Accuracies 1 : \n",
            "0.9338729190863336\n",
            "Individual Cross-Validation Accuracies 2 : \n",
            "[0.95138889 0.96875    0.91637631 0.94773519 0.94773519]\n",
            "Mean Cross-Validation Accuracies 2 : \n",
            "0.946397115756872\n",
            "Individual Cross-Validation Accuracies 3 : \n",
            "[0. 0. 0. 0. 0.]\n",
            "Mean Cross-Validation Accuracies 3 : \n",
            "0.0\n",
            "Individual Cross-Validation Accuracies 4 : \n",
            "[0.89930556 0.94097222 0.89198606 0.89547038 0.91289199]\n",
            "Mean Cross-Validation Accuracies 4 : \n",
            "0.9081252419667052\n",
            "Individual Cross-Validation Accuracies 5 : \n",
            "[0.90277778 0.76736111 0.8989547  0.88501742 0.8815331 ]\n",
            "Mean Cross-Validation Accuracies 5 : \n",
            "0.8671288230739449\n",
            "Individual Cross-Validation Accuracies 6 : \n",
            "[0.93055556 0.93055556 0.93379791 0.93728223 0.90940767]\n",
            "Mean Cross-Validation Accuracies 6 : \n",
            "0.928319783197832\n",
            "Individual Cross-Validation Accuracies 7 : \n",
            "[0.96180556 0.94097222 0.91986063 0.93728223 0.92682927]\n",
            "Mean Cross-Validation Accuracies 7 : \n",
            "0.9373499806426636\n"
          ]
        },
        {
          "output_type": "execute_result",
          "data": {
            "text/plain": [
              "0.9416666666666667"
            ]
          },
          "metadata": {},
          "execution_count": 11
        }
      ],
      "source": [
        "model1 = MLPClassifier(random_state=1, max_iter=2500).fit(X_train, Y_train)\n",
        "res1 = cross_val_score(model1, X_train, Y_train, cv=5, n_jobs=-1)\n",
        "print('Individual Cross-Validation Accuracies 1 : ')\n",
        "print (res1)\n",
        "print('Mean Cross-Validation Accuracies 1 : ')\n",
        "print (res1.mean())\n",
        "model1.score(X_test, Y_test)\n",
        "model2 = MLPClassifier(hidden_layer_sizes=(400, 150, 50), activation = 'relu', max_iter=2500).fit(X_train, Y_train)\n",
        "res2 = cross_val_score(model2, X_train, Y_train, cv=5, n_jobs=-1)\n",
        "print('Individual Cross-Validation Accuracies 2 : ')\n",
        "print (res2)\n",
        "print('Mean Cross-Validation Accuracies 2 : ')\n",
        "print (res2.mean())\n",
        "model2.score(X_test, Y_test)\n",
        "model3 = MLPClassifier(hidden_layer_sizes=(400, 150, 50), activation = 'logistic', max_iter=2500).fit(X_train, Y_train)\n",
        "res3 = cross_val_score(model3, X_train, Y_train, cv=5, n_jobs=-1)\n",
        "print('Individual Cross-Validation Accuracies 3 : ')\n",
        "print (res3)\n",
        "print('Mean Cross-Validation Accuracies 3 : ')\n",
        "print (res3.mean())\n",
        "model3.score(X_test, Y_test)\n",
        "model4 = MLPClassifier(hidden_layer_sizes=(64, 32, 8), activation = 'relu', max_iter=2500).fit(X_train, Y_train)\n",
        "res4 = cross_val_score(model4, X_train, Y_train, cv=5, n_jobs=-1)\n",
        "print('Individual Cross-Validation Accuracies 4 : ')\n",
        "print (res4)\n",
        "print('Mean Cross-Validation Accuracies 4 : ')\n",
        "print (res4.mean())\n",
        "model4.score(X_test, Y_test)\n",
        "model5 = MLPClassifier(hidden_layer_sizes=(32, 16), activation = 'relu', max_iter=2500).fit(X_train, Y_train)\n",
        "res5 = cross_val_score(model5, X_train, Y_train, cv=5, n_jobs=-1)\n",
        "print('Individual Cross-Validation Accuracies 5 : ')\n",
        "print (res5)\n",
        "print('Mean Cross-Validation Accuracies 5 : ')\n",
        "print (res5.mean())\n",
        "model5.score(X_test, Y_test)\n",
        "model6 = MLPClassifier(hidden_layer_sizes=(120, 64, 16), activation = 'relu', max_iter=2500).fit(X_train, Y_train)\n",
        "res6 = cross_val_score(model6, X_train, Y_train, cv=5, n_jobs=-1)\n",
        "print('Individual Cross-Validation Accuracies 6 : ')\n",
        "print (res6)\n",
        "print('Mean Cross-Validation Accuracies 6 : ')\n",
        "print (res6.mean())\n",
        "model6.score(X_test, Y_test)\n",
        "model7 = MLPClassifier(hidden_layer_sizes=(320, 120, 32), activation = 'relu', max_iter=2500).fit(X_train, Y_train)\n",
        "res7 = cross_val_score(model7, X_train, Y_train, cv=5, n_jobs=-1)\n",
        "print('Individual Cross-Validation Accuracies 7 : ')\n",
        "print (res7)\n",
        "print('Mean Cross-Validation Accuracies 7 : ')\n",
        "print (res7.mean())\n",
        "model7.score(X_test, Y_test)"
      ]
    },
    {
      "cell_type": "code",
      "execution_count": 12,
      "metadata": {
        "colab": {
          "base_uri": "https://localhost:8080/",
          "height": 302
        },
        "id": "tGIrVyJhPxlX",
        "outputId": "c40172ee-29f7-43b1-afda-24f640a2cf09"
      },
      "outputs": [
        {
          "output_type": "execute_result",
          "data": {
            "text/plain": [
              "Text(0.5, 0, 'Model')"
            ]
          },
          "metadata": {},
          "execution_count": 12
        },
        {
          "output_type": "display_data",
          "data": {
            "text/plain": [
              "<Figure size 432x288 with 1 Axes>"
            ],
            "image/png": "[encoded data removed]"
          },
          "metadata": {}
        }
      ],
      "source": [
        "seaborn.set(style = 'whitegrid')\n",
        "ax = seaborn.violinplot(data = [res1, res2, res3, res4, res5, res6, res7])\n",
        "ax.set_ylabel(\"Accuracies\")\n",
        "ax.set_xlabel(\"Model\")"
      ]
    },
    {
      "cell_type": "code",
      "execution_count": null,
      "metadata": {
        "id": "5S3u1aYhPxlX"
      },
      "outputs": [],
      "source": [
        ""
      ]
    },
    {
      "cell_type": "code",
      "execution_count": null,
      "metadata": {
        "id": "FtH08iWHPxlY"
      },
      "outputs": [],
      "source": [
        ""
      ]
    }
  ],
  "metadata": {
    "kernelspec": {
      "display_name": "Python 3",
      "language": "python",
      "name": "python3"
    },
    "language_info": {
      "codemirror_mode": {
        "name": "ipython",
        "version": 3
      },
      "file_extension": ".py",
      "mimetype": "text/x-python",
      "name": "python",
      "nbconvert_exporter": "python",
      "pygments_lexer": "ipython3",
      "version": "3.8.3"
    },
    "colab": {
      "name": "CS156 (HW7).ipynb",
      "provenance": []
    }
  },
  "nbformat": 4,
  "nbformat_minor": 0
}