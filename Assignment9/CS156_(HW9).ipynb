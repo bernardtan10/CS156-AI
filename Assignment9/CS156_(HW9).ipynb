{
  "cells": [
    {
      "cell_type": "markdown",
      "source": [
        "# <b>CS156 (Introduction to AI), Spring 2022</b>\n",
        "# <u><b>Homework 9 submission</b></u>"
      ],
      "metadata": {
        "id": "1ayfL9PsIAvW"
      },
      "id": "1ayfL9PsIAvW"
    },
    {
      "cell_type": "markdown",
      "source": [
        "### Roster Name: Bernard Tan\n",
        "### Preferred Name (if different): Bernard\n",
        "### Student ID: 015215317\n",
        "### Email address: bernard.tan@sjsu.edu\n",
        "Any special notes or anything you would like to communicate to me about this homework submission goes in here."
      ],
      "metadata": {
        "id": "hxlweu01IJP2"
      },
      "id": "hxlweu01IJP2"
    },
    {
      "cell_type": "markdown",
      "source": [
        "##  <u>References and sources </u>"
      ],
      "metadata": {
        "id": "Xbj7VYSNINOk"
      },
      "id": "Xbj7VYSNINOk"
    },
    {
      "cell_type": "markdown",
      "source": [
        "List all your references and sources here.\n",
        "This includes all sites/discussion boards/blogs/posts/etc. where you grabbed some code examples."
      ],
      "metadata": {
        "id": "dGUWpvRvIPbk"
      },
      "id": "dGUWpvRvIPbk"
    },
    {
      "cell_type": "markdown",
      "source": [
        "##  <u>Solution</u>"
      ],
      "metadata": {
        "id": "3KZi36WNIQOL"
      },
      "id": "3KZi36WNIQOL"
    },
    {
      "cell_type": "markdown",
      "source": [
        "#### Load libraries and set random number generator seed"
      ],
      "metadata": {
        "id": "6Iwpp-bnIUjM"
      },
      "id": "6Iwpp-bnIUjM"
    },
    {
      "cell_type": "code",
      "execution_count": null,
      "id": "92ab0e9e-6abc-4ae5-a269-4d5574636282",
      "metadata": {
        "id": "92ab0e9e-6abc-4ae5-a269-4d5574636282"
      },
      "outputs": [],
      "source": [
        "import tensorflow\n",
        "from tensorflow import keras\n",
        "from tensorflow.keras.layers import BatchNormalization\n",
        "from tensorflow.keras.layers import Conv2D\n",
        "from tensorflow.keras.layers import Conv2DTranspose\n",
        "from tensorflow.keras.layers import LeakyReLU\n",
        "from tensorflow.keras.layers import Activation\n",
        "from tensorflow.keras.layers import Flatten\n",
        "from tensorflow.keras.layers import Dense\n",
        "from tensorflow.keras.layers import Reshape\n",
        "from tensorflow.keras.layers import Input\n",
        "from tensorflow.keras.models import Model\n",
        "from tensorflow.keras import backend as K\n",
        "import numpy as np\n",
        "from tensorflow.keras.layers import Dense, Input, Conv2D, LSTM, MaxPool2D, UpSampling2D\n",
        "from sklearn.model_selection import train_test_split\n",
        "from tensorflow.keras.callbacks import EarlyStopping\n",
        "from tensorflow.keras.utils import to_categorical\n",
        "from numpy import argmax, array_equal\n",
        "import matplotlib.pyplot as plt\n",
        "import seaborn as sns\n",
        "from tensorflow.keras.models import Model\n",
        "from random import randint\n",
        "import pandas as pd\n",
        "import numpy as np\n",
        "from tensorflow.keras import layers\n",
        "from PIL import Image\n",
        "from tensorflow.keras import regularizers\n",
        "from tensorflow.keras import backend\n",
        "from datetime import datetime"
      ]
    },
    {
      "cell_type": "code",
      "execution_count": null,
      "id": "25cae1b8-0e5e-498e-ab97-ae2985f4451d",
      "metadata": {
        "id": "25cae1b8-0e5e-498e-ab97-ae2985f4451d"
      },
      "outputs": [],
      "source": [
        "np.random.seed(42)"
      ]
    },
    {
      "cell_type": "code",
      "execution_count": null,
      "id": "69f46cbb-37f7-4bbf-ab8e-276d286aa90e",
      "metadata": {
        "id": "69f46cbb-37f7-4bbf-ab8e-276d286aa90e",
        "outputId": "a289fb8b-d14d-4837-8a78-c846a8660bc3"
      },
      "outputs": [
        {
          "data": {
            "text/plain": [
              "((48000, 28, 28), (12000, 28, 28), (10000, 28, 28))"
            ]
          },
          "execution_count": 3,
          "metadata": {},
          "output_type": "execute_result"
        }
      ],
      "source": [
        "input_shape = (28, 28, 1)\n",
        "\n",
        "# the data, split between train and test sets\n",
        "(x_train_valid, y_train_valid), (x_test, y_test) = keras.datasets.fashion_mnist.load_data() \n",
        "x_train, x_validation, y_train, y_validation = train_test_split(x_train_valid, y_train_valid, test_size=0.2, random_state=0)\n",
        "\n",
        "# Scale images to the [0, 1] range\n",
        "x_train = x_train.astype(\"float32\") / 255\n",
        "x_validation = x_validation.astype(\"float32\") / 255\n",
        "x_test = x_test.astype(\"float32\") / 255\n",
        "\n",
        "x_train.shape, x_validation.shape, x_test.shape"
      ]
    },
    {
      "cell_type": "code",
      "execution_count": null,
      "id": "cbf66bd7-8425-483b-bd93-d2d1f39d0025",
      "metadata": {
        "id": "cbf66bd7-8425-483b-bd93-d2d1f39d0025",
        "outputId": "8b161174-6387-4cec-f123-143bf2d61d14"
      },
      "outputs": [
        {
          "data": {
            "text/plain": [
              "((48000, 784), (12000, 784), (10000, 784))"
            ]
          },
          "execution_count": 4,
          "metadata": {},
          "output_type": "execute_result"
        }
      ],
      "source": [
        "# Reshape the images into flat ANN layers\n",
        "x_train = x_train.reshape(-1, 784)\n",
        "x_validation = x_validation.reshape(-1, 784)\n",
        "x_test = x_test.reshape(-1, 784)\n",
        "\n",
        "x_train.shape, x_validation.shape, x_test.shape"
      ]
    },
    {
      "cell_type": "code",
      "execution_count": null,
      "id": "470570de-bc4c-481b-8103-cb3f59b58b26",
      "metadata": {
        "id": "470570de-bc4c-481b-8103-cb3f59b58b26",
        "outputId": "588e72b6-d06f-4bf0-9c6f-db1219dca1ec"
      },
      "outputs": [
        {
          "name": "stdout",
          "output_type": "stream",
          "text": [
            "Model: \"model\"\n",
            "_________________________________________________________________\n",
            "Layer (type)                 Output Shape              Param #   \n",
            "=================================================================\n",
            "input_1 (InputLayer)         [(None, 784)]             0         \n",
            "_________________________________________________________________\n",
            "dense (Dense)                (None, 128)               100480    \n",
            "_________________________________________________________________\n",
            "dense_1 (Dense)              (None, 64)                8256      \n",
            "_________________________________________________________________\n",
            "dense_2 (Dense)              (None, 32)                2080      \n",
            "_________________________________________________________________\n",
            "dense_3 (Dense)              (None, 64)                2112      \n",
            "_________________________________________________________________\n",
            "dense_4 (Dense)              (None, 128)               8320      \n",
            "_________________________________________________________________\n",
            "dense_5 (Dense)              (None, 784)               101136    \n",
            "=================================================================\n",
            "Total params: 222,384\n",
            "Trainable params: 222,384\n",
            "Non-trainable params: 0\n",
            "_________________________________________________________________\n"
          ]
        }
      ],
      "source": [
        "## input layer\n",
        "# 28*28\n",
        "input_layer = Input(shape=(784,))  \n",
        "\n",
        "## encoding architecture\n",
        "encode_layer1 = Dense(128, activation='relu')(input_layer)\n",
        "encode_layer2 = Dense(64, activation='relu')(encode_layer1)\n",
        "encode_layer3 = Dense(32, activation='relu')(encode_layer2)\n",
        "\n",
        "## decoding architecture\n",
        "decode_layer1 = Dense(64, activation='relu')(encode_layer3)\n",
        "decode_layer2 = Dense(128, activation='relu')(decode_layer1)\n",
        "decode_layer3 = Dense(784, activation='relu')(decode_layer2)\n",
        "\n",
        "model = Model(input_layer, decode_layer3)\n",
        "model.summary()"
      ]
    },
    {
      "cell_type": "code",
      "execution_count": null,
      "id": "2bca8911-00f1-4abd-b047-e7a2f45f2732",
      "metadata": {
        "id": "2bca8911-00f1-4abd-b047-e7a2f45f2732",
        "outputId": "b4b65268-e8b0-44cf-a930-90e718b749ca"
      },
      "outputs": [
        {
          "name": "stdout",
          "output_type": "stream",
          "text": [
            "Epoch 1/30\n",
            "24/24 [==============================] - 1s 30ms/step - loss: 0.1150 - val_loss: 0.0887\n",
            "Epoch 2/30\n",
            "24/24 [==============================] - 1s 24ms/step - loss: 0.0781 - val_loss: 0.0686\n",
            "Epoch 3/30\n",
            "24/24 [==============================] - 1s 25ms/step - loss: 0.0619 - val_loss: 0.0541\n",
            "Epoch 4/30\n",
            "24/24 [==============================] - 1s 25ms/step - loss: 0.0476 - val_loss: 0.0425\n",
            "Epoch 5/30\n",
            "24/24 [==============================] - 1s 25ms/step - loss: 0.0391 - val_loss: 0.0360\n",
            "Epoch 6/30\n",
            "24/24 [==============================] - 1s 25ms/step - loss: 0.0340 - val_loss: 0.0325\n",
            "Epoch 7/30\n",
            "24/24 [==============================] - 1s 25ms/step - loss: 0.0315 - val_loss: 0.0310\n",
            "Epoch 8/30\n",
            "24/24 [==============================] - 1s 25ms/step - loss: 0.0300 - val_loss: 0.0297\n",
            "Epoch 9/30\n",
            "24/24 [==============================] - 1s 25ms/step - loss: 0.0290 - val_loss: 0.0288\n",
            "Epoch 10/30\n",
            "24/24 [==============================] - 1s 25ms/step - loss: 0.0282 - val_loss: 0.0280\n",
            "Epoch 11/30\n",
            "24/24 [==============================] - 1s 24ms/step - loss: 0.0275 - val_loss: 0.0274\n",
            "Epoch 12/30\n",
            "24/24 [==============================] - 1s 25ms/step - loss: 0.0269 - val_loss: 0.0268\n",
            "Epoch 13/30\n",
            "24/24 [==============================] - 1s 25ms/step - loss: 0.0263 - val_loss: 0.0261\n",
            "Epoch 14/30\n",
            "24/24 [==============================] - 1s 25ms/step - loss: 0.0257 - val_loss: 0.0257\n",
            "Epoch 15/30\n",
            "24/24 [==============================] - 1s 25ms/step - loss: 0.0252 - val_loss: 0.0252\n",
            "Epoch 16/30\n",
            "24/24 [==============================] - 1s 25ms/step - loss: 0.0248 - val_loss: 0.0249\n",
            "Epoch 17/30\n",
            "24/24 [==============================] - 1s 25ms/step - loss: 0.0246 - val_loss: 0.0246\n",
            "Epoch 18/30\n",
            "24/24 [==============================] - 1s 25ms/step - loss: 0.0243 - val_loss: 0.0244\n",
            "Epoch 19/30\n",
            "24/24 [==============================] - 1s 25ms/step - loss: 0.0241 - val_loss: 0.0241\n",
            "Epoch 20/30\n",
            "24/24 [==============================] - 1s 25ms/step - loss: 0.0239 - val_loss: 0.0240\n",
            "Epoch 21/30\n",
            "24/24 [==============================] - 1s 25ms/step - loss: 0.0237 - val_loss: 0.0239\n",
            "Epoch 22/30\n",
            "24/24 [==============================] - 1s 25ms/step - loss: 0.0234 - val_loss: 0.0233\n",
            "Epoch 23/30\n",
            "24/24 [==============================] - 1s 24ms/step - loss: 0.0230 - val_loss: 0.0230\n",
            "Epoch 24/30\n",
            "24/24 [==============================] - 1s 25ms/step - loss: 0.0228 - val_loss: 0.0230\n",
            "Epoch 25/30\n",
            "24/24 [==============================] - 1s 25ms/step - loss: 0.0226 - val_loss: 0.0227\n",
            "Epoch 26/30\n",
            "24/24 [==============================] - 1s 25ms/step - loss: 0.0225 - val_loss: 0.0226\n",
            "Epoch 27/30\n",
            "24/24 [==============================] - 1s 26ms/step - loss: 0.0223 - val_loss: 0.0224\n",
            "Epoch 28/30\n",
            "24/24 [==============================] - 1s 25ms/step - loss: 0.0222 - val_loss: 0.0223\n",
            "Epoch 29/30\n",
            "24/24 [==============================] - 1s 25ms/step - loss: 0.0220 - val_loss: 0.0222\n",
            "Epoch 30/30\n",
            "24/24 [==============================] - 1s 25ms/step - loss: 0.0220 - val_loss: 0.0220\n"
          ]
        },
        {
          "data": {
            "text/plain": [
              "<keras.callbacks.History at 0x7fb117c21850>"
            ]
          },
          "execution_count": 6,
          "metadata": {},
          "output_type": "execute_result"
        }
      ],
      "source": [
        "model.compile(optimizer='adam', loss='mse')\n",
        "early_stopping = EarlyStopping(monitor='val_loss', min_delta=0, patience=10, verbose=1, mode='auto')\n",
        "model.fit(x_train, x_train, epochs=30, batch_size=2048, validation_data=(x_validation, x_validation), callbacks=[early_stopping])"
      ]
    },
    {
      "cell_type": "code",
      "execution_count": null,
      "id": "e41f5617-e667-4fc4-90f4-9d2b2625a0c3",
      "metadata": {
        "id": "e41f5617-e667-4fc4-90f4-9d2b2625a0c3",
        "outputId": "e4fad861-f0db-44db-facf-ca38212034d6"
      },
      "outputs": [
        {
          "data": {
            "image/png": "[encoded data removed]",
            "text/plain": [
              "<Figure size 1440x288 with 20 Axes>"
            ]
          },
          "metadata": {
            "needs_background": "light"
          },
          "output_type": "display_data"
        }
      ],
      "source": [
        "predictions = model.predict(x_test)\n",
        "n = 10\n",
        "plt.figure(figsize=(20, 4))\n",
        "for i in range(n):\n",
        "    # original\n",
        "    ax = plt.subplot(2, n, i + 1)\n",
        "    plt.imshow(x_test[i].reshape(28, 28))\n",
        "    plt.gray()\n",
        "    ax.get_xaxis().set_visible(False)\n",
        "    ax.get_yaxis().set_visible(False)\n",
        "\n",
        "    # reconstruction\n",
        "    ax = plt.subplot(2, n, i + 1 + n)\n",
        "    plt.imshow(predictions[i].reshape(28, 28))\n",
        "    plt.gray()\n",
        "    ax.get_xaxis().set_visible(False)\n",
        "    ax.get_yaxis().set_visible(False)\n",
        "plt.show()"
      ]
    },
    {
      "cell_type": "code",
      "execution_count": null,
      "id": "132b5cd6-4381-4593-b407-3a4d31898c84",
      "metadata": {
        "id": "132b5cd6-4381-4593-b407-3a4d31898c84",
        "outputId": "b0e4e623-328c-461b-97ab-a3a9015890ff"
      },
      "outputs": [
        {
          "data": {
            "text/plain": [
              "((48000, 28, 28), (12000, 28, 28), (10000, 28, 28))"
            ]
          },
          "execution_count": 8,
          "metadata": {},
          "output_type": "execute_result"
        }
      ],
      "source": [
        "input_shape = (28, 28, 1)\n",
        "\n",
        "# the data, split between train and test sets\n",
        "(x_train_valid, y_train_valid), (x_test, y_test) = keras.datasets.fashion_mnist.load_data() \n",
        "x_train, x_validation, y_train, y_validation = train_test_split(x_train_valid, y_train_valid, test_size=0.2, random_state=0)\n",
        "\n",
        "# Scale images to the [0, 1] range\n",
        "x_train = x_train.astype(\"float32\") / 255\n",
        "x_validation = x_validation.astype(\"float32\") / 255\n",
        "x_test = x_test.astype(\"float32\") / 255\n",
        "\n",
        "x_train.shape, x_validation.shape, x_test.shape"
      ]
    },
    {
      "cell_type": "code",
      "execution_count": null,
      "id": "07659e8c-2f67-4940-865a-0b39d05772f8",
      "metadata": {
        "id": "07659e8c-2f67-4940-865a-0b39d05772f8",
        "outputId": "9e7b22cb-9b40-4df2-ce6b-01ef938f77e7"
      },
      "outputs": [
        {
          "data": {
            "text/plain": [
              "((48000, 28, 28, 1), (12000, 28, 28, 1), (10000, 28, 28, 1))"
            ]
          },
          "execution_count": 9,
          "metadata": {},
          "output_type": "execute_result"
        }
      ],
      "source": [
        "# shape back into image matrices\n",
        "x_train = x_train.reshape(-1, 28, 28, 1)\n",
        "x_validation = x_validation.reshape(-1, 28, 28, 1)\n",
        "x_test = x_test.reshape(-1, 28, 28, 1)\n",
        "\n",
        "x_train.shape, x_validation.shape, x_test.shape"
      ]
    },
    {
      "cell_type": "code",
      "execution_count": null,
      "id": "1e88eaa4-3fcb-43f1-8c8b-a46844cdbb87",
      "metadata": {
        "id": "1e88eaa4-3fcb-43f1-8c8b-a46844cdbb87"
      },
      "outputs": [],
      "source": [
        "noise_factor = 0.4\n",
        "x_train_noisy = x_train + noise_factor * np.random.normal(loc=0.0, scale=1.0, size=x_train.shape) \n",
        "x_validation_noisy = x_validation + noise_factor * np.random.normal(loc=0.0, scale=1.0, size=x_validation.shape) \n",
        "x_test_noisy = x_test + noise_factor * np.random.normal(loc=0.0, scale=1.0, size=x_test.shape) \n",
        "\n",
        "x_train_noisy = np.clip(x_train_noisy, 0., 1.)\n",
        "x_validation_noisy = np.clip(x_validation_noisy, 0., 1.)\n",
        "x_test_noisy = np.clip(x_test_noisy, 0., 1.)"
      ]
    },
    {
      "cell_type": "code",
      "execution_count": null,
      "id": "57eb478c-8fd1-4369-90a1-0d71af4e36d2",
      "metadata": {
        "id": "57eb478c-8fd1-4369-90a1-0d71af4e36d2",
        "outputId": "d728d276-ee24-4d8d-fdab-b8c5d7781abf"
      },
      "outputs": [
        {
          "name": "stdout",
          "output_type": "stream",
          "text": [
            "Model: \"model_1\"\n",
            "_________________________________________________________________\n",
            "Layer (type)                 Output Shape              Param #   \n",
            "=================================================================\n",
            "input_2 (InputLayer)         [(None, 28, 28, 1)]       0         \n",
            "_________________________________________________________________\n",
            "conv2d (Conv2D)              (None, 28, 28, 32)        320       \n",
            "_________________________________________________________________\n",
            "max_pooling2d (MaxPooling2D) (None, 14, 14, 32)        0         \n",
            "_________________________________________________________________\n",
            "conv2d_1 (Conv2D)            (None, 14, 14, 32)        9248      \n",
            "_________________________________________________________________\n",
            "max_pooling2d_1 (MaxPooling2 (None, 7, 7, 32)          0         \n",
            "_________________________________________________________________\n",
            "conv2d_2 (Conv2D)            (None, 7, 7, 32)          9248      \n",
            "_________________________________________________________________\n",
            "up_sampling2d (UpSampling2D) (None, 14, 14, 32)        0         \n",
            "_________________________________________________________________\n",
            "conv2d_3 (Conv2D)            (None, 14, 14, 32)        9248      \n",
            "_________________________________________________________________\n",
            "up_sampling2d_1 (UpSampling2 (None, 28, 28, 32)        0         \n",
            "_________________________________________________________________\n",
            "conv2d_4 (Conv2D)            (None, 28, 28, 1)         289       \n",
            "=================================================================\n",
            "Total params: 28,353\n",
            "Trainable params: 28,353\n",
            "Non-trainable params: 0\n",
            "_________________________________________________________________\n"
          ]
        }
      ],
      "source": [
        "input_layer = keras.Input(shape=(28, 28, 1))\n",
        "\n",
        "x = layers.Conv2D(32, (3, 3), activation='relu', padding='same')(input_layer)\n",
        "x = layers.MaxPooling2D((2, 2), padding='same')(x)\n",
        "x = layers.Conv2D(32, (3, 3), activation='relu', padding='same')(x)\n",
        "encoded = layers.MaxPooling2D((2, 2), padding='same')(x)\n",
        "\n",
        "# At this point the representation is (7, 7, 32)\n",
        "\n",
        "x = layers.Conv2D(32, (3, 3), activation='relu', padding='same')(encoded)\n",
        "x = layers.UpSampling2D((2, 2))(x)\n",
        "x = layers.Conv2D(32, (3, 3), activation='relu', padding='same')(x)\n",
        "x = layers.UpSampling2D((2, 2))(x)\n",
        "decoded = layers.Conv2D(1, (3, 3), activation='sigmoid', padding='same')(x)\n",
        "\n",
        "autoencoder = keras.Model(input_layer, decoded)\n",
        "autoencoder.compile(optimizer='adam', loss='binary_crossentropy')\n",
        "\n",
        "autoencoder.summary()"
      ]
    },
    {
      "cell_type": "code",
      "execution_count": null,
      "id": "a894d254-3346-4b96-9371-bfcaa6420345",
      "metadata": {
        "id": "a894d254-3346-4b96-9371-bfcaa6420345",
        "outputId": "e6a5d036-f69a-4519-bd8a-9d8f03c3ca65"
      },
      "outputs": [
        {
          "name": "stdout",
          "output_type": "stream",
          "text": [
            "Epoch 1/30\n",
            "24/24 [==============================] - 38s 2s/step - loss: 0.5426 - val_loss: 0.3880\n",
            "Epoch 2/30\n",
            "24/24 [==============================] - 38s 2s/step - loss: 0.3628 - val_loss: 0.3446\n",
            "Epoch 3/30\n",
            "24/24 [==============================] - 38s 2s/step - loss: 0.3353 - val_loss: 0.3266\n",
            "Epoch 4/30\n",
            "24/24 [==============================] - 38s 2s/step - loss: 0.3223 - val_loss: 0.3181\n",
            "Epoch 5/30\n",
            "24/24 [==============================] - 38s 2s/step - loss: 0.3164 - val_loss: 0.3145\n",
            "Epoch 6/30\n",
            "24/24 [==============================] - 38s 2s/step - loss: 0.3129 - val_loss: 0.3113\n",
            "Epoch 7/30\n",
            "24/24 [==============================] - 37s 2s/step - loss: 0.3104 - val_loss: 0.3092\n",
            "Epoch 8/30\n",
            "24/24 [==============================] - 39s 2s/step - loss: 0.3087 - val_loss: 0.3073\n",
            "Epoch 9/30\n",
            "24/24 [==============================] - 38s 2s/step - loss: 0.3069 - val_loss: 0.3059\n",
            "Epoch 10/30\n",
            "24/24 [==============================] - 38s 2s/step - loss: 0.3058 - val_loss: 0.3048\n",
            "Epoch 11/30\n",
            "24/24 [==============================] - 38s 2s/step - loss: 0.3048 - val_loss: 0.3043\n",
            "Epoch 12/30\n",
            "24/24 [==============================] - 38s 2s/step - loss: 0.3037 - val_loss: 0.3029\n",
            "Epoch 13/30\n",
            "24/24 [==============================] - 38s 2s/step - loss: 0.3030 - val_loss: 0.3026\n",
            "Epoch 14/30\n",
            "24/24 [==============================] - 38s 2s/step - loss: 0.3021 - val_loss: 0.3018\n",
            "Epoch 15/30\n",
            "24/24 [==============================] - 38s 2s/step - loss: 0.3017 - val_loss: 0.3013\n",
            "Epoch 16/30\n",
            "24/24 [==============================] - 37s 2s/step - loss: 0.3010 - val_loss: 0.3004\n",
            "Epoch 17/30\n",
            "24/24 [==============================] - 37s 2s/step - loss: 0.3002 - val_loss: 0.2998\n",
            "Epoch 18/30\n",
            "24/24 [==============================] - 37s 2s/step - loss: 0.3005 - val_loss: 0.2994\n",
            "Epoch 19/30\n",
            "24/24 [==============================] - 37s 2s/step - loss: 0.2999 - val_loss: 0.2990\n",
            "Epoch 20/30\n",
            "24/24 [==============================] - 37s 2s/step - loss: 0.2987 - val_loss: 0.2983\n",
            "Epoch 21/30\n",
            "24/24 [==============================] - 37s 2s/step - loss: 0.2983 - val_loss: 0.2979\n",
            "Epoch 22/30\n",
            "24/24 [==============================] - 37s 2s/step - loss: 0.2978 - val_loss: 0.2974\n",
            "Epoch 23/30\n",
            "24/24 [==============================] - 37s 2s/step - loss: 0.2976 - val_loss: 0.2978\n",
            "Epoch 24/30\n",
            "24/24 [==============================] - 37s 2s/step - loss: 0.2971 - val_loss: 0.2966\n",
            "Epoch 25/30\n",
            "24/24 [==============================] - 38s 2s/step - loss: 0.2967 - val_loss: 0.2965\n",
            "Epoch 26/30\n",
            "24/24 [==============================] - 38s 2s/step - loss: 0.2965 - val_loss: 0.2959\n",
            "Epoch 27/30\n",
            "24/24 [==============================] - 37s 2s/step - loss: 0.2960 - val_loss: 0.2956\n",
            "Epoch 28/30\n",
            "24/24 [==============================] - 37s 2s/step - loss: 0.2959 - val_loss: 0.2957\n",
            "Epoch 29/30\n",
            "24/24 [==============================] - 38s 2s/step - loss: 0.2957 - val_loss: 0.2953\n",
            "Epoch 30/30\n",
            "24/24 [==============================] - 38s 2s/step - loss: 0.2951 - val_loss: 0.2948\n"
          ]
        },
        {
          "data": {
            "text/plain": [
              "<keras.callbacks.History at 0x7fb0fd717610>"
            ]
          },
          "execution_count": 12,
          "metadata": {},
          "output_type": "execute_result"
        }
      ],
      "source": [
        "autoencoder.fit(x_train_noisy, x_train,\n",
        "                epochs=30,\n",
        "                batch_size=2048,\n",
        "                shuffle=True,\n",
        "                validation_data=(x_validation_noisy, x_validation))"
      ]
    },
    {
      "cell_type": "code",
      "execution_count": null,
      "id": "38b82286-51e6-404d-8cbf-1ab9e652adfb",
      "metadata": {
        "id": "38b82286-51e6-404d-8cbf-1ab9e652adfb",
        "outputId": "d539d258-883a-4b48-ce6e-d10b008cec20"
      },
      "outputs": [
        {
          "data": {
            "image/png": "[encoded data removed]",
            "text/plain": [
              "<Figure size 1440x288 with 20 Axes>"
            ]
          },
          "metadata": {
            "needs_background": "light"
          },
          "output_type": "display_data"
        }
      ],
      "source": [
        "predictions = autoencoder.predict(x_test)\n",
        "\n",
        "n = 10\n",
        "plt.figure(figsize=(20, 4))\n",
        "for i in range(n):\n",
        "    # noisy\n",
        "    ax = plt.subplot(2, n, i + 1)\n",
        "    plt.imshow(x_test_noisy[i].reshape(28, 28))\n",
        "    plt.gray()\n",
        "    ax.get_xaxis().set_visible(False)\n",
        "    ax.get_yaxis().set_visible(False)\n",
        "\n",
        "    # reconstruction\n",
        "    ax = plt.subplot(2, n, i + 1 + n)\n",
        "    plt.imshow(predictions[i].reshape(28, 28))\n",
        "    plt.gray()\n",
        "    ax.get_xaxis().set_visible(False)\n",
        "    ax.get_yaxis().set_visible(False)\n",
        "plt.show()"
      ]
    }
  ],
  "metadata": {
    "kernelspec": {
      "display_name": "Python 3",
      "language": "python",
      "name": "python3"
    },
    "language_info": {
      "codemirror_mode": {
        "name": "ipython",
        "version": 3
      },
      "file_extension": ".py",
      "mimetype": "text/x-python",
      "name": "python",
      "nbconvert_exporter": "python",
      "pygments_lexer": "ipython3",
      "version": "3.8.8"
    },
    "colab": {
      "name": "CS156 (HW9).ipynb",
      "provenance": []
    }
  },
  "nbformat": 4,
  "nbformat_minor": 5
}