{
  "cells": [
    {
      "cell_type": "markdown",
      "metadata": {
        "id": "cuGP67JaFlPd"
      },
      "source": [
        "# <b>CS156 (Introduction to AI), Spring 2022</b>\n",
        "# <u><b>Final term project</b></u>"
      ]
    },
    {
      "cell_type": "markdown",
      "metadata": {
        "id": "myrz4QYVFlPe"
      },
      "source": [
        "### Roster Name: Your Name\n",
        "### Preferred Name (if different): Chosen Name\n",
        "### Student ID: xxxxxxx\n",
        "### Email address: me@me.com\n",
        "Any special notes or anything you would like to communicate to me about this project submission goes in here."
      ]
    },
    {
      "cell_type": "markdown",
      "metadata": {
        "id": "dT8R1DpqFlPe"
      },
      "source": [
        "##  <u> Project description/introduction text (the background information) </u>"
      ]
    },
    {
      "cell_type": "markdown",
      "metadata": {
        "id": "wHXUVxILFlPf"
      },
      "source": [
        "Add the description of this project. Describe the background of the problem your project is trying to solve. Describe the ML problem you are solving below. "
      ]
    },
    {
      "cell_type": "markdown",
      "metadata": {
        "id": "frcWtUM7FlPf"
      },
      "source": [
        "##  <u> Machine learning algorithm selected for this project </u>"
      ]
    },
    {
      "cell_type": "markdown",
      "metadata": {
        "id": "CQv0CdJxFlPf"
      },
      "source": [
        "Name and add short description of the algorithm used for this project. You can re-use this text in your final poster submission."
      ]
    },
    {
      "cell_type": "markdown",
      "metadata": {
        "id": "gPZlqq8aFlPf"
      },
      "source": [
        "##  <u> Dataset source </u>"
      ]
    },
    {
      "cell_type": "markdown",
      "metadata": {
        "id": "IkIBxeYuFlPf"
      },
      "source": [
        "List the source from where the dataset for this project was obtained."
      ]
    },
    {
      "cell_type": "markdown",
      "metadata": {
        "id": "oZzzh3olFlPg"
      },
      "source": [
        "##  <u> References and sources </u>"
      ]
    },
    {
      "cell_type": "markdown",
      "metadata": {
        "id": "1fQv5KupFlPg"
      },
      "source": [
        "List all your references and sources here.\n",
        "This includes all sites/discussion boards/blogs/posts/etc. where you grabbed some code examples."
      ]
    },
    {
      "cell_type": "markdown",
      "metadata": {
        "id": "TRhmbsJaFlPg"
      },
      "source": [
        "##  <u>Solution</u>"
      ]
    },
    {
      "cell_type": "markdown",
      "metadata": {
        "id": "gynzQd67FlPg"
      },
      "source": [
        "#### Load libraries and set random number generator seed"
      ]
    },
    {
      "cell_type": "code",
      "execution_count": 17,
      "metadata": {
        "id": "hHait4KtFlPg"
      },
      "outputs": [],
      "source": [
        "import numpy as np\n",
        "import pandas as pd\n",
        "from sklearn import datasets\n",
        "import matplotlib.pyplot as plt\n",
        "import seaborn as sns\n",
        "from sklearn.model_selection import train_test_split\n",
        "from sklearn.decomposition import PCA\n",
        "from sklearn.preprocessing import StandardScaler\n",
        "from sklearn.svm import LinearSVC\n",
        "from sklearn.svm import SVC\n",
        "from sklearn.model_selection import GridSearchCV\n",
        "from sklearn.metrics import classification_report\n",
        "from sklearn.metrics import plot_confusion_matrix\n",
        "from sklearn.metrics import accuracy_score, precision_score, recall_score\n",
        "\n",
        "from sklearn.model_selection import StratifiedKFold\n",
        "from sklearn.model_selection import cross_val_score"
      ]
    },
    {
      "cell_type": "code",
      "execution_count": 18,
      "metadata": {
        "id": "RkrVCBjVFlPh"
      },
      "outputs": [],
      "source": [
        "np.random.seed(42)"
      ]
    },
    {
      "cell_type": "markdown",
      "metadata": {
        "id": "EeyBIs7sFlPh"
      },
      "source": [
        "#### Code the solution"
      ]
    },
    {
      "cell_type": "code",
      "execution_count": 82,
      "metadata": {
        "id": "ejJ6uLqsFlPh"
      },
      "outputs": [],
      "source": [
        "# Load Dataset\n",
        "\n",
        "df = pd.read_csv(r'healthcare-dataset-stroke-data.csv')\n",
        "df.dropna(axis=0, inplace=True)\n",
        "Y = df['stroke']\n",
        "X = df.drop (['stroke'], axis = 1)\n",
        "#X = df['hypertension']\n",
        "\n",
        "targets = [\"0\", \"1\"]"
      ]
    },
    {
      "cell_type": "code",
      "execution_count": 83,
      "metadata": {
        "id": "ptfvosxKFlPh"
      },
      "outputs": [],
      "source": [
        "# Replace String Category to Numbers\n",
        "\n",
        "X['gender'] = X['gender'].replace({'Male':0,'Female':1, 'Other':2})\n",
        "X['ever_married'] = X['ever_married'].replace({'No':0,'Yes':1})\n",
        "X['work_type'] = X['work_type'].replace({'Private':0,'Self-employed':1,'Govt_job':2, 'children':3, 'Never_worked':4})\n",
        "X['Residence_type'] = X['Residence_type'].replace({'Urban':0,'Rural':1})\n",
        "X['smoking_status'] = X['smoking_status'].replace({'formerly smoked':0,'never smoked':1,'smokes':2, 'Unknown':3})\n",
        "#X['bmi'] = X['bmi'].replace({'N/A':0})"
      ]
    },
    {
      "cell_type": "code",
      "execution_count": 84,
      "metadata": {
        "id": "yXaXTy_oFlPh"
      },
      "outputs": [],
      "source": [
        "# Data Rescale\n",
        "\n",
        "scaler = StandardScaler()\n",
        "X_rescaled = scaler.fit_transform(X)"
      ]
    },
    {
      "cell_type": "code",
      "execution_count": 98,
      "metadata": {
        "colab": {
          "base_uri": "https://localhost:8080/"
        },
        "id": "2hVBXduDFlPi",
        "outputId": "f2106300-f376-4d34-b7e3-745b6db772f7"
      },
      "outputs": [
        {
          "output_type": "execute_result",
          "data": {
            "text/plain": [
              "((3681, 11), (3681,), (1228, 11), (1228,))"
            ]
          },
          "metadata": {},
          "execution_count": 98
        }
      ],
      "source": [
        "# Data Split\n",
        "\n",
        "X_train, X_test, Y_train, Y_test = train_test_split(X_rescaled, Y, test_size=0.25, random_state=0, stratify=Y)\n",
        "X_train.shape, Y_train.shape, X_test.shape, Y_test.shape"
      ]
    },
    {
      "cell_type": "code",
      "execution_count": 99,
      "metadata": {
        "id": "UD6fNOxRFlPi"
      },
      "outputs": [],
      "source": [
        "# ML Model\n",
        "\n",
        "model = LinearSVC()"
      ]
    },
    {
      "cell_type": "code",
      "execution_count": 100,
      "metadata": {
        "colab": {
          "base_uri": "https://localhost:8080/"
        },
        "id": "qfXZzJc_FlPi",
        "outputId": "edb48031-85f0-4249-c4bf-2dab971ec9f0"
      },
      "outputs": [
        {
          "output_type": "stream",
          "name": "stdout",
          "text": [
            "Individual Cross-Validation Accuracies : \n",
            "[0.96 0.96 0.96 0.96 0.96]\n",
            "Mean Cross-Validation Accuracies : \n",
            "0.9573487552356792\n"
          ]
        }
      ],
      "source": [
        "# Cross Validation\n",
        "\n",
        "res = cross_val_score(model, X_train, Y_train, cv=5, n_jobs=-1)\n",
        "\n",
        "print('Individual Cross-Validation Accuracies : ')\n",
        "print (res)\n",
        "print('Mean Cross-Validation Accuracies : ')\n",
        "print (res.mean())"
      ]
    },
    {
      "cell_type": "code",
      "source": [
        "# Model Fitting\n",
        "\n",
        "model.fit(X_train,Y_train)\n",
        "\n",
        "print('Accuracy of linear SVC on training set: {:.2f}'.format(model.score(X_train, Y_train)))\n",
        "\n",
        "print('Accuracy of linear SVC on test set: {:.2f}'.format(model.score(X_test, Y_test)))"
      ],
      "metadata": {
        "colab": {
          "base_uri": "https://localhost:8080/"
        },
        "id": "Um6TvMVsF6xH",
        "outputId": "dd84f746-f959-4308-8da5-e2380dd7d726"
      },
      "execution_count": 101,
      "outputs": [
        {
          "output_type": "stream",
          "name": "stdout",
          "text": [
            "Accuracy of linear SVC on training set: 0.96\n",
            "Accuracy of linear SVC on test set: 0.96\n"
          ]
        },
        {
          "output_type": "stream",
          "name": "stderr",
          "text": [
            "/usr/local/lib/python3.7/dist-packages/sklearn/svm/_base.py:1208: ConvergenceWarning: Liblinear failed to converge, increase the number of iterations.\n",
            "  ConvergenceWarning,\n"
          ]
        }
      ]
    },
    {
      "cell_type": "code",
      "source": [
        "# Confusion Matrix\n",
        "\n",
        "np.set_printoptions(precision=2)\n",
        "titles_options = [(\"Confusion matrix, without normalization\", None),\n",
        "                  (\"Normalized confusion matrix\", 'true')]\n",
        "for title, normalize in titles_options:\n",
        "    disp = plot_confusion_matrix(model, X_test, Y_test,\n",
        "                                 display_labels=targets,\n",
        "                                 cmap=plt.cm.Blues,\n",
        "                                 normalize=normalize, xticks_rotation='vertical')\n",
        "    disp.ax_.set_title(title)\n",
        "\n",
        "  \n",
        "\n",
        "plt.show()"
      ],
      "metadata": {
        "colab": {
          "base_uri": "https://localhost:8080/",
          "height": 656
        },
        "id": "Rna2WYXEF8WG",
        "outputId": "0ba78cce-d3b6-4018-da4d-6eb63ff440e0"
      },
      "execution_count": 102,
      "outputs": [
        {
          "output_type": "stream",
          "name": "stderr",
          "text": [
            "/usr/local/lib/python3.7/dist-packages/sklearn/utils/deprecation.py:87: FutureWarning: Function plot_confusion_matrix is deprecated; Function `plot_confusion_matrix` is deprecated in 1.0 and will be removed in 1.2. Use one of the class methods: ConfusionMatrixDisplay.from_predictions or ConfusionMatrixDisplay.from_estimator.\n",
            "  warnings.warn(msg, category=FutureWarning)\n",
            "/usr/local/lib/python3.7/dist-packages/sklearn/utils/deprecation.py:87: FutureWarning: Function plot_confusion_matrix is deprecated; Function `plot_confusion_matrix` is deprecated in 1.0 and will be removed in 1.2. Use one of the class methods: ConfusionMatrixDisplay.from_predictions or ConfusionMatrixDisplay.from_estimator.\n",
            "  warnings.warn(msg, category=FutureWarning)\n"
          ]
        },
        {
          "output_type": "display_data",
          "data": {
            "text/plain": [
              "<Figure size 432x288 with 2 Axes>"
            ],
            "image/png": "[encoded data removed]"
          },
          "metadata": {
            "needs_background": "light"
          }
        },
        {
          "output_type": "display_data",
          "data": {
            "text/plain": [
              "<Figure size 432x288 with 2 Axes>"
            ],
            "image/png": "[encoded data removed]"
          },
          "metadata": {
            "needs_background": "light"
          }
        }
      ]
    }
  ],
  "metadata": {
    "kernelspec": {
      "display_name": "Python 3",
      "language": "python",
      "name": "python3"
    },
    "language_info": {
      "codemirror_mode": {
        "name": "ipython",
        "version": 3
      },
      "file_extension": ".py",
      "mimetype": "text/x-python",
      "name": "python",
      "nbconvert_exporter": "python",
      "pygments_lexer": "ipython3",
      "version": "3.8.3"
    },
    "colab": {
      "name": "TermProjectSubmissionTemplate.ipynb",
      "provenance": []
    }
  },
  "nbformat": 4,
  "nbformat_minor": 0
}